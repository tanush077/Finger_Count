{
 "cells": [
  {
   "cell_type": "code",
   "execution_count": 7,
   "metadata": {},
   "outputs": [],
   "source": [
    "import cv2\n",
    "import numpy as np\n",
    "\n",
    "from sklearn.metrics import pairwise"
   ]
  },
  {
   "cell_type": "code",
   "execution_count": 8,
   "metadata": {},
   "outputs": [],
   "source": [
    "background = None\n",
    "accumalated_weight = 0.5\n",
    "roi_top = 20\n",
    "roi_bottom = 300\n",
    "roi_right = 300\n",
    "roi_left = 600"
   ]
  },
  {
   "cell_type": "code",
   "execution_count": 9,
   "metadata": {},
   "outputs": [],
   "source": [
    "def calc_bg(frame,accumalated_weight):\n",
    "    global background\n",
    "    \n",
    "    if background is None:\n",
    "        background = frame.copy().astype('float')\n",
    "        return None\n",
    "    cv2.accumulateWeighted(frame,background,accumalated_weight)"
   ]
  },
  {
   "cell_type": "code",
   "execution_count": 10,
   "metadata": {},
   "outputs": [],
   "source": [
    "def segment(frame,threshold =25):\n",
    "    diff = cv2.absdiff(background.astype('uint8'),frame)\n",
    "    \n",
    "    ret,thresh = cv2.threshold(diff,threshold,255,cv2.THRESH_BINARY)\n",
    "    \n",
    "    image,contours,heirarchy = cv2.findContours(thresh.copy(),cv2.RETR_EXTERNAL,cv2.CHAIN_APPROX_SIMPLE)\n",
    "    \n",
    "    if len(contours)  == 0:\n",
    "        return None\n",
    "    else:\n",
    "        hand = max(contours,key = cv2.contourArea)\n",
    "        \n",
    "        return (thresh,hand)"
   ]
  },
  {
   "cell_type": "code",
   "execution_count": 11,
   "metadata": {},
   "outputs": [],
   "source": [
    "def count_finger(thresh,hand):\n",
    "    conv_hull = cv2.convexHull(hand)\n",
    "    \n",
    "    top = tuple(conv_hull[conv_hull[:,:,1].argmin()][0])\n",
    "    bottom = tuple(conv_hull[conv_hull[:,:,1].argmax()][0])\n",
    "    left = tuple(conv_hull[conv_hull[:,:,0].argmin()][0])\n",
    "    right = tuple(conv_hull[conv_hull[:,:,0].argmax()][0])\n",
    "    \n",
    "    cx = (left[0] + right[0])//2\n",
    "    cy = (left[1] + right[1])//2\n",
    "    \n",
    "    dist = pairwise.euclidean_distances([(cx,cy)],Y = [left,right,top,bottom])[0]\n",
    "    max_dist = dist.max()\n",
    "    radius = int(0.7*max_dist)\n",
    "    circ = 2*np.pi*radius\n",
    "\n",
    "    roi = np.zeros(thresh.shape[:2],dtype = 'uint8')\n",
    "    \n",
    "    cv2.circle(roi,(cx,cy),radius,255,10)\n",
    "    roi = cv2.bitwise_and(thresh,thresh,mask = roi)\n",
    "    image,contours,heirarchy = cv2.findContours(roi.copy(),cv2.RETR_EXTERNAL,cv2.CHAIN_APPROX_NONE)\n",
    "    \n",
    "    count = 0\n",
    "    \n",
    "    for cnt in contours:\n",
    "        (x,y,w,h) = cv2.boundingRect(cnt)\n",
    "        \n",
    "        out_wr = ((cy+(cy*0.25)) > (y+h))\n",
    "        lim = ((circ*0.25) > cnt.shape[0])\n",
    "        \n",
    "        if out_wr and lim:\n",
    "            count = count+1\n",
    "            \n",
    "    return count\n",
    "    "
   ]
  },
  {
   "cell_type": "code",
   "execution_count": 13,
   "metadata": {},
   "outputs": [],
   "source": [
    "cam = cv2.VideoCapture(0)\n",
    "\n",
    "nframes = 0\n",
    "\n",
    "while True:\n",
    "    ret,frame = cam.read()\n",
    "    \n",
    "    frame_copy = frame.copy()\n",
    "    \n",
    "    roi = frame[roi_top:roi_bottom,roi_right:roi_left]\n",
    "    gray = cv2.cvtColor(roi,cv2.COLOR_BGR2GRAY)\n",
    "    gray = cv2.GaussianBlur(gray,(7,7),0)\n",
    "    \n",
    "    if nframes <60:\n",
    "        calc_bg(gray,accumalated_weight)\n",
    "        \n",
    "        if nframes<=59:\n",
    "            cv2.putText(frame_copy,'LOADINGG',(200,200),cv2.FONT_HERSHEY_SIMPLEX,1,(0,0,255),2)\n",
    "            cv2.imshow('Finger Count',frame_copy)\n",
    "    else:\n",
    "        hand = segment(gray)\n",
    "        \n",
    "        if hand is not None:\n",
    "            thresh,hand_seg = hand\n",
    "            \n",
    "            cv2.drawContours(frame_copy,[hand_seg+(roi_right,roi_top)],-1,(255,0,0),5)\n",
    "            \n",
    "            fingers = count_finger(thresh,hand_seg)\n",
    "            \n",
    "            cv2.putText(frame_copy,str(fingers),(70,50),cv2.FONT_HERSHEY_SIMPLEX,1,(0,0,255),2)\n",
    "            \n",
    "            cv2.imshow('Thresholded',thresh)\n",
    "        \n",
    "    cv2.rectangle(frame_copy,(roi_left,roi_top),(roi_right,roi_bottom),(0,0,255),5)\n",
    "    \n",
    "    nframes = nframes+1\n",
    "    \n",
    "    cv2.imshow('Counter',frame_copy)\n",
    "    \n",
    "    k = cv2.waitKey(1) & 0xFF\n",
    "    \n",
    "    if k ==27:\n",
    "        break\n",
    "        \n",
    "cam.release()\n",
    "cv2.destroyAllWindows()"
   ]
  },
  {
   "cell_type": "code",
   "execution_count": null,
   "metadata": {},
   "outputs": [],
   "source": []
  }
 ],
 "metadata": {
  "kernelspec": {
   "display_name": "Python 3",
   "language": "python",
   "name": "python3"
  },
  "language_info": {
   "codemirror_mode": {
    "name": "ipython",
    "version": 3
   },
   "file_extension": ".py",
   "mimetype": "text/x-python",
   "name": "python",
   "nbconvert_exporter": "python",
   "pygments_lexer": "ipython3",
   "version": "3.6.6"
  }
 },
 "nbformat": 4,
 "nbformat_minor": 2
}
